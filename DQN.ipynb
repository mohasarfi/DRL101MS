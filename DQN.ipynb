{
 "cells": [
  {
   "attachments": {},
   "cell_type": "markdown",
   "metadata": {},
   "source": [
    "# Intro\n",
    "While this notebook focuses on understanding through clear explanations and visualizations,a professional implementation could involve separate files for better organization:\n",
    "- **model.py**: Contains the neural network architecture.\n",
    "- **agent.py**: Contains the DRL algorithm.\n",
    "- **trainning.py**: Contains the agent interaction with the environment to provide the training and testing loops.\n",
    "\n",
    "This notebook contains all above files in one place for better understanding! Consider this notebook the first chapter of our DRL adventure! In next notebooks, we'll be more focused on the implementation of the algorithms. \n"
   ]
  },
  {
   "attachments": {},
   "cell_type": "markdown",
   "metadata": {},
   "source": [
    "# Simulation Environment"
   ]
  },
  {
   "cell_type": "code",
   "execution_count": 1,
   "metadata": {},
   "outputs": [
    {
     "name": "stderr",
     "output_type": "stream",
     "text": [
      "A.L.E: Arcade Learning Environment (version 0.9.0+750d7f9)\n",
      "[Powered by Stella]\n"
     ]
    },
    {
     "name": "stdout",
     "output_type": "stream",
     "text": [
      "{'lives': 0, 'episode_frame_number': 4, 'frame_number': 400}\n"
     ]
    }
   ],
   "source": [
    "import gymnasium as gym\n",
    "import ale_py\n",
    "\n",
    "# Create the Pong environment\n",
    "env = gym.make(\"ALE/Pong-v5\")\n",
    "\n",
    "# Reset the environment to start\n",
    "state = env.reset()\n",
    "\n",
    "# Example interaction with the environment\n",
    "for _ in range(100):\n",
    "    action = env.action_space.sample()  # Take a random action\n",
    "    observation, _, terminated, truncated, done = env.step(action)  # Apply the action\n",
    "\n",
    "    if done:\n",
    "        state = env.reset()  # Reset the environment if done\n",
    "\n",
    "print(done)\n"
   ]
  },
  {
   "cell_type": "code",
   "execution_count": null,
   "metadata": {},
   "outputs": [],
   "source": []
  }
 ],
 "metadata": {
  "kernelspec": {
   "display_name": "gym_env",
   "language": "python",
   "name": "python3"
  },
  "language_info": {
   "codemirror_mode": {
    "name": "ipython",
    "version": 3
   },
   "file_extension": ".py",
   "mimetype": "text/x-python",
   "name": "python",
   "nbconvert_exporter": "python",
   "pygments_lexer": "ipython3",
   "version": "3.8.19"
  },
  "orig_nbformat": 4,
  "vscode": {
   "interpreter": {
    "hash": "bc49bab7f3878ba80ad2a65c2525cdc9d74c5f54777f705d73262dece5a900f4"
   }
  }
 },
 "nbformat": 4,
 "nbformat_minor": 2
}
